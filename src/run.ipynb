{
 "cells": [
  {
   "cell_type": "code",
   "execution_count": 5,
   "metadata": {},
   "outputs": [],
   "source": [
    "import numpy as np\n",
    "\n",
    "from proj1_helpers import load_csv_data, create_csv_submission\n",
    "from feature_selection import select_best_degrees, build_poly_by_feature\n",
    "from feature_selection import compute_log, compute_theta, compute_physics\n",
    "from correction_rate import cross_validation, print_score\n",
    "from evaluation import predict_regression_labels\n",
    "\n",
    "%load_ext autoreload\n",
    "%autoreload 2"
   ]
  },
  {
   "cell_type": "markdown",
   "metadata": {},
   "source": [
    "## Training"
   ]
  },
  {
   "cell_type": "code",
   "execution_count": 6,
   "metadata": {},
   "outputs": [],
   "source": [
    "dat_dir = '../data/'"
   ]
  },
  {
   "cell_type": "code",
   "execution_count": 22,
   "metadata": {},
   "outputs": [
    {
     "name": "stdout",
     "output_type": "stream",
     "text": [
      "training started\n",
      "loading the training dataset...\n",
      "data loaded...\n"
     ]
    }
   ],
   "source": [
    "############################\n",
    "## Training\n",
    "############################\n",
    "print('training started')\n",
    "\n",
    "# load the training set\n",
    "print('loading the training dataset...')\n",
    "y_train_pre, tx_train, ids_train = load_csv_data(dat_dir + \"train.csv\", sub_sample=False)\n",
    "print('data loaded...')\n",
    "\n",
    "y_train=y_train_pre.reshape(y_train_pre.shape[0],1)"
   ]
  },
  {
   "cell_type": "code",
   "execution_count": 10,
   "metadata": {},
   "outputs": [],
   "source": [
    "# construct the featues using log()\n",
    "index_log = [0,1,2,4,5,6,7,9,10,12,16,21,23,24,25,26,27,28,29]\n",
    "tx_log,mean_log,std_log = compute_log(tx_train, index_log)\n",
    "\n",
    "# construct the featues using cosine()\n",
    "index_theta = [14,15,17,18,20]\n",
    "tx_theta,mean_theta,std_theta = compute_theta(tx_train,index_theta)\n",
    "\n",
    "# construct the featues with physics meanings: \n",
    "# index_physics_A (mass) * index_physics_B / index_physics_C\n",
    "index_physics_A = [0]\n",
    "index_physics_B = [10,13,13,9]\n",
    "index_physics_C = [9,16,21,10]\n",
    "tx_physics, mean_physics, std_physics = compute_physics(tx_train,\n",
    "                                                        index_physics_A,\n",
    "                                                        index_physics_B,\n",
    "                                                        index_physics_C)\n",
    "\n",
    "# combine all the selected features for training set\n",
    "train_new = np.c_[tx_log, tx_theta, tx_physics]"
   ]
  },
  {
   "cell_type": "code",
   "execution_count": 11,
   "metadata": {},
   "outputs": [],
   "source": [
    "# calculate the best degrees for the features\n",
    "'''unindented the following code for debugging'''\n",
    "# # using the least_squares regression\n",
    "# best_degrees = select_best_degrees(y_train, train_new, max_degree=4)\n",
    "# np.save('best_degrees.npy',best_degrees)\n",
    "best_degrees = np.load('best_degrees.npy')\n",
    "\n",
    "# reconstruct all the features at their own best degrees\n",
    "train_best_degrees = build_poly_by_feature(train_new, best_degrees)"
   ]
  },
  {
   "cell_type": "code",
   "execution_count": 12,
   "metadata": {},
   "outputs": [],
   "source": [
    "# innitialize hyper parameters\n",
    "k_fold = 15\n",
    "method = 'RR'\n",
    "X = train_best_degrees\n",
    "y = np.copy(y_train)\n",
    "lambda_ = 1e-6\n",
    "initial_w_pre = np.zeros((np.size(X,1)))\n",
    "initial_w=initial_w_pre.reshape(initial_w_pre.shape[0],1)"
   ]
  },
  {
   "cell_type": "code",
   "execution_count": 13,
   "metadata": {},
   "outputs": [
    {
     "name": "stdout",
     "output_type": "stream",
     "text": [
      "============================================================\n",
      "                      Ridge regression                      \n",
      "============================================================\n",
      "average loss         ...............................1.106e+00\n",
      "average accuracy     ...............................8.139e-01\n",
      "max accuracy         ...............................8.220e-01\n",
      "============================================================\n"
     ]
    }
   ],
   "source": [
    "# ridge regression\n",
    "scores, weights, loss_avg, score_avg = cross_validation(y, X, 'RR', {\"lambda_\": lambda_}, \n",
    "                                                        threshold = 0, k=k_fold, seed=0)\n",
    "print_score(loss_avg, score_avg, scores, method='Ridge regression')"
   ]
  },
  {
   "cell_type": "code",
   "execution_count": 14,
   "metadata": {},
   "outputs": [],
   "source": [
    "from costs import sigmoid\n",
    "X_sigmoid = np.copy(X)\n",
    "X_sigmoid = sigmoid(X_sigmoid)"
   ]
  },
  {
   "cell_type": "code",
   "execution_count": 34,
   "metadata": {},
   "outputs": [
    {
     "name": "stdout",
     "output_type": "stream",
     "text": [
      "============================================================\n",
      "                      Ridge regression                      \n",
      "============================================================\n",
      "average loss         ...............................1.092e+00\n",
      "average accuracy     ...............................8.222e-01\n",
      "max accuracy         ...............................8.280e-01\n",
      "============================================================\n"
     ]
    }
   ],
   "source": [
    "# ridge regression\n",
    "lambda_ = 1e-7\n",
    "scores, weights, loss_avg, score_avg = cross_validation(y, X_sigmoid, 'RR', {\"lambda_\": lambda_}, \n",
    "                                                        threshold = 0, k=k_fold, seed=0)\n",
    "print_score(loss_avg, score_avg, scores, method='Ridge regression')"
   ]
  },
  {
   "cell_type": "code",
   "execution_count": 29,
   "metadata": {},
   "outputs": [
    {
     "name": "stdout",
     "output_type": "stream",
     "text": [
      "training finished\n"
     ]
    }
   ],
   "source": [
    "# select the best weights\n",
    "'''unindented the following code for debugging'''\n",
    "# best_weights = weights[np.where(scores == np.max(scores))[0][0]]\n",
    "# np.save('best_weights.npy',best_weights)\n",
    "best_weights = np.load('best_weights.npy')\n",
    "\n",
    "print('training finished')"
   ]
  },
  {
   "cell_type": "markdown",
   "metadata": {},
   "source": [
    "## Prediction"
   ]
  },
  {
   "cell_type": "code",
   "execution_count": 23,
   "metadata": {},
   "outputs": [
    {
     "name": "stdout",
     "output_type": "stream",
     "text": [
      "prediction started\n",
      "loading the testing dataset...\n",
      "data loaded...\n"
     ]
    }
   ],
   "source": [
    "############################\n",
    "## Prediction\n",
    "############################\n",
    "print('prediction started')\n",
    "\n",
    "# load the test set\n",
    "print('loading the testing dataset...')\n",
    "y_test, tx_test,ids_test = load_csv_data(dat_dir +\"test.csv\")\n",
    "print('data loaded...')"
   ]
  },
  {
   "cell_type": "code",
   "execution_count": 24,
   "metadata": {},
   "outputs": [
    {
     "name": "stdout",
     "output_type": "stream",
     "text": [
      "prediction ended\n"
     ]
    }
   ],
   "source": [
    "# combine all the selected features for testing set\n",
    "# Note we used the same means and stds from training set\n",
    "test_log,_,_ = compute_log(tx_test, index_log, mean_log, std_log)\n",
    "test_theta,_,_ = compute_theta(tx_test, index_theta, mean_theta, std_theta)\n",
    "test_physics, _, _ = compute_physics(tx_test, index_physics_A, index_physics_B, index_physics_C,\n",
    "                                     mean_physics, std_physics)\n",
    "test_new = np.c_[test_log,test_theta,test_physics]\n",
    "\n",
    "\n",
    "# reconstruct all the features of test set using the best degrees from training set\n",
    "test_best_degree = build_poly_by_feature(test_new, best_degrees)"
   ]
  },
  {
   "cell_type": "code",
   "execution_count": 30,
   "metadata": {
    "scrolled": true
   },
   "outputs": [
    {
     "name": "stdout",
     "output_type": "stream",
     "text": [
      "prediction ended\n"
     ]
    }
   ],
   "source": [
    "# predict\n",
    "y_pred = predict_regression_labels(best_weights, \n",
    "                                   sigmoid(test_best_degree), threshold=0)\n",
    "\n",
    "print('prediction ended')"
   ]
  },
  {
   "cell_type": "code",
   "execution_count": 31,
   "metadata": {},
   "outputs": [
    {
     "name": "stdout",
     "output_type": "stream",
     "text": [
      "submission generated\n"
     ]
    }
   ],
   "source": [
    "# generate submission\n",
    "create_csv_submission(ids_test, y_pred, 'submission.csv')\n",
    "print('submission generated')"
   ]
  }
 ],
 "metadata": {
  "kernelspec": {
   "display_name": "Python 3",
   "language": "python",
   "name": "python3"
  },
  "language_info": {
   "codemirror_mode": {
    "name": "ipython",
    "version": 3
   },
   "file_extension": ".py",
   "mimetype": "text/x-python",
   "name": "python",
   "nbconvert_exporter": "python",
   "pygments_lexer": "ipython3",
   "version": "3.6.5"
  }
 },
 "nbformat": 4,
 "nbformat_minor": 2
}
